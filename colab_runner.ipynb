{
 "cells": [
  {
   "cell_type": "code",
   "execution_count": null,
   "id": "fea10a1b",
   "metadata": {
    "vscode": {
     "languageId": "plaintext"
    }
   },
   "outputs": [],
   "source": [
    "# Install dependencies\n",
    "!pip install -r requirements.txt\n",
    "\n",
    "# Set up Ngrok (replace token with yours)\n",
    "!ngrok config add-authtoken YOUR_NGROK_TOKEN\n",
    "\n",
    "# Run the Streamlit app via ngrok\n",
    "from pyngrok import ngrok\n",
    "public_url = ngrok.connect(8501)\n",
    "print(\"Public URL:\", public_url)\n",
    "\n",
    "!streamlit run app.py --server.port 8501 & sleep 5"
   ]
  }
 ],
 "metadata": {
  "language_info": {
   "name": "python"
  }
 },
 "nbformat": 4,
 "nbformat_minor": 5
}
